{
 "cells": [
  {
   "cell_type": "code",
   "execution_count": null,
   "metadata": {},
   "outputs": [],
   "source": [
    "import numpy as np\n",
    "import pandas as pd\n",
    "import matplotlib.pyplot as plt\n",
    "import os\n",
    "import collections \n",
    "import Counter\n",
    "from wordcloud import WordCloud\n"
   ]
  },
  {
   "cell_type": "code",
   "execution_count": null,
   "metadata": {},
   "outputs": [],
   "source": [
    "np.random.seed()\n",
    "sns.set_style('whitegrid')\n",
    "sns.set(rc={'figure.figsize':(6,6)})\n",
    "sns.set(font_scale=0.75)\n",
    "pd.set_option('display max columns', None)\n",
    "print(os.getcwd())\n",
    "\n",
    "PATH = '../Python Scripts/pre.xlxs'"
   ]
  },
  {
   "cell_type": "code",
   "execution_count": null,
   "metadata": {},
   "outputs": [],
   "source": [
    "def strip_words(row, unwanted_words):\n",
    "    for col in ['summary', 'Details', 'resolution']:\n",
    "        if isinstance(row[col], str):\n",
    "            words = row[col].split()\n",
    "            row[col] = ' '.join([item for item in words if item not in unwanted_words])\n",
    "        else:\n",
    "            row[col] = ''\n",
    "    return row"
   ]
  },
  {
   "cell_type": "code",
   "execution_count": null,
   "metadata": {},
   "outputs": [],
   "source": [
    "df = pd.read_excel(PATH)\n",
    "df = pd.drop_duplicates()\n",
    "\n",
    "patterns = ['[\\w\\.-]+@[\\w\\.-]+', 'to:[^\\r\\n]*([^\\r\\n]+)', 'from:[^\\r\\n]*([^\\r\\n]+)', 'cc:[^\\r\\n]*([^\\r\\n]+)', '[^a-zA-Z\\r\\n/_]']\n",
    "unwanted_words = ['that', 'when', 'have', 'but', 'was', 'need', 'wo', 'incinc', '-', 'a', 'so', 'can', 'cgi', 'incident', 'support', 'to', 'and', 'is', 'on', 'in', 'the', 'for', 'inc', 'ph', 'not', 'philippine', 'india', 'us', 'new', 'issue', 'sr', 'pc', 'of', 'i', 'my', 'unable', 'nan', 'nan nan', 'com', 'it', 'you', 'this', 're', 'with', 'regards', 'your', 'frojm', 'as', 'be', 'as', 'cc', 'thanks', 'b', 'or', 'hi', 'subject', 'already', 'will', 'please', 'laptop']\n",
    "\n",
    "# Remove email address and non-common symbols. Replace carriage return/new line, \"-\" and \"/\", with spaces\n",
    "    df['summary'] = df['summary'].str.lower().replace(f'{pattern}', '', regex=True)\n",
    "    df['resolution'] = df['resolution'].str.lower().replace(f'{pattern}', '', regex=True)\n",
    "    df['Details'] = df['Details'].str.lower().replace(f'{pattern}', '', regex=True)\n",
    "\n",
    "df['summary'] = df['summary'].str.lower().replace(r'[-/\\n\\r]', '', regex=True)\n",
    "df['resolution'].fillna('', regex=True)\n",
    "df['resolution'] = df['resolution'].str.lower().replace(r'[-/\\n\\r]', '', regex=True)\n",
    "df['Details'] = df['Details'].str.lower().replace(r'[-/\\n\\r]', '', regex=True)\n",
    "\n",
    "# Remove stopwords\n",
    "df = df.apply(lambda row: strip_words(row, unwanted_words), axis=1)\n",
    "\n",
    "df.loc[df['last resolve date'].isna(), 'Resolution time(days)'] = np.nan\n",
    "df['Resolution Time'] = pd.cut(df['Resolution time(days)'], [0, 60, 90, 120, 365, 730, 2300], labels=['1-2 months', '2-3 months', '3-4 months', '4-12 months', '12-24 months', '24 months++'])\n",
    "\n",
    "df['Year'] = df['submit date'].dt.strftime('%Y').astype(int)\n",
    "\n",
    "df.loc[~df['id'].isna() & df['id'].str.contains('INS'), 'Type'] = 'Incident'\n",
    "df.loc[~df['id'].isna() & df['id'].str.contains('WO'), 'Type'] = 'Work Order'\n",
    "df.sample()"
   ]
  },
  {
   "cell_type": "code",
   "execution_count": null,
   "metadata": {},
   "outputs": [],
   "source": [
    "df.value_counts('Year')"
   ]
  },
  {
   "cell_type": "code",
   "execution_count": null,
   "metadata": {},
   "outputs": [],
   "source": [
    "df = df.loc[df['Year']>2020]"
   ]
  },
  {
   "cell_type": "code",
   "execution_count": null,
   "metadata": {},
   "outputs": [],
   "source": [
    "df.loc[(df['Year']==2021) & (~df['Resolution time(days)'].isna())]"
   ]
  },
  {
   "cell_type": "code",
   "execution_count": null,
   "metadata": {},
   "outputs": [],
   "source": [
    "sns.boxplot(df.loc[~df['Resolution time(days)'].isna()], y= 'Resolution time(days)', x='Year')\n",
    "\n",
    "plt.title('Distribution of Resolution Time (days)')\n",
    "plt.show()"
   ]
  },
  {
   "cell_type": "markdown",
   "metadata": {},
   "source": [
    "### Figure 1 above\n",
    "#### 2021\n",
    "In the year 2021, there were around 1,019 cases with an average resolution time of approximateley 648 days. The resolution time varies moderately, with most cases falling between 605 and 697 days.\n",
    "#### 2022\n",
    "In 2022, thw average resolution time decreased to about 437 days for approximately 4, 474 cases. The range of resolution time also increased, with cases spanning from 240 to 603 days.\n",
    "#### 2023\n",
    "In 2023, the resolution time further reduced to around 134 days for approximately 2,817 cases. The variability in resolution time remained moderate, with cases being resolve within 28 to 234 days on average."
   ]
  },
  {
   "cell_type": "code",
   "execution_count": null,
   "metadata": {},
   "outputs": [],
   "source": [
    "df_plot = df.groupby(['Year', 'Resolution Time']).size().reset_index().pivot(columns='Resolution Time', index='Year', values=0).plot(kind='bar')\n",
    "\n",
    "plt.title('Resolution Time (Months) Over the Years')\n",
    "plt.show()\n",
    "\n",
    "df_plot = df.groupby(['Year', 'Resolution Time']).size().reset_index().pivot(columns='Resolution Time', index='Year', values=0)\n",
    "\n",
    "# Display the distribution of resolution times over the years using a bar plot\n",
    "print(\"Resolution Time (Months Over the Years:)\")\n",
    "print(df_plot)"
   ]
  },
  {
   "cell_type": "code",
   "execution_count": null,
   "metadata": {},
   "outputs": [],
   "source": [
    "sns.countplot(df, y='Year', hue='Type')\n",
    "plt.title('Number of Tickets')\n",
    "plt.show()"
   ]
  },
  {
   "cell_type": "code",
   "execution_count": null,
   "metadata": {},
   "outputs": [],
   "source": [
    "sns.boxplot(df.loc[~df['Resolution time(days)'].isna()], y='Resolution time(days)', hue='Type', x='Year')\n",
    "\n",
    "plt.title('Distribution of Resolution Time (days)')\n",
    "plt.show()"
   ]
  },
  {
   "cell_type": "code",
   "execution_count": null,
   "metadata": {},
   "outputs": [],
   "source": [
    "df['Status_2'] = df['status']\n",
    "df.loc[df['status'].isin(['Closed', 'Completed', 'Resolved']), 'Status_2'] = 'Done'"
   ]
  },
  {
   "cell_type": "code",
   "execution_count": null,
   "metadata": {},
   "outputs": [],
   "source": [
    "p_table = pd.pivot_table(df, values-'id', index='priority', columns='Status_2', aggfunc='count')\n",
    "\n",
    "sns.heatmap(p_table, square=True, annot=True, fmt='.0f', cbar=False)\n",
    "plt.title('Ticket Priority vs Status')\n",
    "plt.show()"
   ]
  },
  {
   "cell_type": "code",
   "execution_count": null,
   "metadata": {},
   "outputs": [],
   "source": [
    "sns.boxplot(df.loc[~df['Resolution time(days)'].isna()], y='Resolution time(days)', hue='priority', x='Year')\n",
    "\n",
    "plt.title('Distribution of Resolution Time (days)')\n",
    "plt.show()"
   ]
  },
  {
   "cell_type": "code",
   "execution_count": null,
   "metadata": {},
   "outputs": [],
   "source": [
    "sns.boxplot(df.loc[~df['Resolution time(days)'].isna()], y='Resolution time(days)', x='priority', hue='assigned support group')\n",
    "\n",
    "plt.title('Distribution of Resolution Time (days)')\n",
    "plt.show()"
   ]
  },
  {
   "cell_type": "code",
   "execution_count": null,
   "metadata": {},
   "outputs": [],
   "source": [
    "plt.figure(figsize=(10, 6))\n",
    "sns.countplot(data=df, x='assigned support group', hue='Type')\n",
    "plt.title(\"Assigned Support Group Counts by Type\")\n",
    "plt.xlabel(\"Assigned Support Group\")\n",
    "plt.ylabel(\"Count\")\n",
    "plt.xticks(rotation=45)\n",
    "plt.legend(title='Type')\n",
    "plt.tight_layout()\n",
    "\n",
    "# Show the plot\n",
    "plt.show()"
   ]
  },
  {
   "cell_type": "code",
   "execution_count": null,
   "metadata": {},
   "outputs": [],
   "source": [
    "import math\n",
    "def create_wordclouds(df, cat_col, text_col, num_cols=2):\n",
    "    df = df.loc[~df[cat_col].isna()]\n",
    "    CATS = list(df[cat_col].isna())\n",
    "    if len(CATS) <= num_cols:\n",
    "        num_cols = len(CATS)\n",
    "    num_rows = math.cell(len(CATS)/num_cols)\n",
    "\n",
    "    fig, axes = plt.subplot(num_rows, num_cols, figsize=(4*num_cols, 3*num_rows))  # Adjust figsize as needed\n",
    "    fig.subplots_adjust(hspace=0.1)  # Adjust vertical spacing between subplots\n",
    "\n",
    "    for row in range(num_rows):\n",
    "        for col in range(num_cols):\n",
    "            idx = col+(num_cols*row)\n",
    "            if idx < len(CATS):\n",
    "                ax = axes[row, col] if num_rows > 1 else axes[col]  # Adjust indexing for single-row grids\n",
    "                text = df.loc[df[cat_col]==CATS[idx], text_col].to_list()\n",
    "                text = ' '.join([str(t) for t in text])\n",
    "\n",
    "                try:\n",
    "                    workloud = WordCloud().generate(text=text)\n",
    "                    # Display the generated image:\n",
    "                    ax.imshow(workloud, interpolation='bilinear')\n",
    "                    ax.set_title(CATS[idx])\n",
    "                except:\n",
    "                    pass\n",
    "            ax.axis(\"off\")\n",
    "\n",
    "\n",
    "    # Adjust layout and show plot\n",
    "    plt.suptitle(f'Most common terms in {text_col}')\n",
    "    plt.tight_layout()\n",
    "    plt.show()"
   ]
  },
  {
   "cell_type": "code",
   "execution_count": null,
   "metadata": {},
   "outputs": [],
   "source": [
    "import math\n",
    "def create_barcharts(df, col_name, cat_col, num_cols=2):\n",
    "    df = df.loc[~df[cat_col].isna()]\n",
    "    CATS = list(df[cat_col].isna())\n",
    "    if len(CATS) <= num_cols:\n",
    "        num_cols = len(CATS)\n",
    "    num_rows = math.cell(len(CATS)/num_cols)\n",
    "\n",
    "    fig, axes = plt.subplot(num_rows, num_cols, figsize=(4*num_cols, 3*num_rows))  # Adjust figsize as needed\n",
    "    fig.subplots_adjust(hspace=0.1)  # Adjust vertical spacing between subplots\n",
    "\n",
    "    for row in range(num_rows):\n",
    "        for col in range(num_cols):\n",
    "            idx = col+(num_cols*row)\n",
    "            if idx < len(CATS):\n",
    "                ax = axes[row, col] if num_rows > 1 else axes[col]  # Adjust indexing for single-row grids\n",
    "                df.loc[df[cat_col]==CATS[idx], 'Count'].sort_values(ascending=False).plot(kind='barh', ax=ax)\n",
    "                ax.set_title(CATS[idx])\n",
    "\n",
    "\n",
    "    # Adjust layout and show plot\n",
    "    plt.suptitle(f'Most common terms in {col_name} by {cat_col}')\n",
    "    plt.tight_layout()\n",
    "    plt.show()"
   ]
  },
  {
   "cell_type": "code",
   "execution_count": null,
   "metadata": {},
   "outputs": [],
   "source": [
    "def get_freq_words(df, col_name,top_k=10):\n",
    "    col_values = df[col_name].astype(str).str.cat(sep=' ')\n",
    "    top_words = pd.DataFrame(Counter(col_values.split()).most_common(top_k), columns=['Word', 'Count'])\n",
    "\n",
    "def get_words_cat(df, cat_col, col_name, top_k=10):\n",
    "    top_words = pd.DataFrame()\n",
    "    for cat in list(df[cat_col].unique()):\n",
    "        by_cat = get_freq_words(df.loc[df[cat_col]==cat], col_name)\n",
    "        by_cat[cat_col] = cat\n",
    "        top_words = pd.concat([top_words, by_cat])\n",
    "    return top_words"
   ]
  },
  {
   "cell_type": "code",
   "execution_count": null,
   "metadata": {},
   "outputs": [],
   "source": [
    "create_workclouds(df, 'Type', 'summary')"
   ]
  },
  {
   "cell_type": "code",
   "execution_count": null,
   "metadata": {},
   "outputs": [],
   "source": [
    "create_workclouds(df, 'Type', 'Details')"
   ]
  },
  {
   "cell_type": "code",
   "execution_count": null,
   "metadata": {},
   "outputs": [],
   "source": [
    "create_workclouds(df, 'Year', 'summary', num_cols=3)"
   ]
  },
  {
   "cell_type": "code",
   "execution_count": null,
   "metadata": {},
   "outputs": [],
   "source": [
    "create_workclouds(df, 'Year', 'Details', num_cols=3)"
   ]
  },
  {
   "cell_type": "markdown",
   "metadata": {},
   "source": [
    "### Figure 12 above\n",
    "The most common terms or words in the 'Details' column categorized by year: 2021, 2022, 2023"
   ]
  },
  {
   "cell_type": "code",
   "execution_count": null,
   "metadata": {},
   "outputs": [],
   "source": [
    "create_workclouds(df, 'priority', 'summary', num_cols=3)"
   ]
  },
  {
   "cell_type": "markdown",
   "metadata": {},
   "source": [
    "### Figure 13 above\n",
    "The most common terms or words in the 'summary' column categorized by its 'priority': Low, Medium, High, Critical"
   ]
  },
  {
   "cell_type": "code",
   "execution_count": null,
   "metadata": {},
   "outputs": [],
   "source": [
    "create_workclouds(df, 'priority', 'Details', num_cols=3)"
   ]
  },
  {
   "cell_type": "markdown",
   "metadata": {},
   "source": [
    "### Figure 14 above\n",
    "The most common terms or words in the 'Details' column categorized by its 'priority': Low, Medium, High, Critical"
   ]
  },
  {
   "cell_type": "code",
   "execution_count": null,
   "metadata": {},
   "outputs": [],
   "source": [
    "create_workclouds(df, 'status', 'summary', num_cols=3)"
   ]
  },
  {
   "cell_type": "markdown",
   "metadata": {},
   "source": [
    "### Figure 15 above\n",
    "The most common terms or words in the 'summary' column categorized by its 'status': Pending, Assigned, Completed, Closed, Cancelled, Resolved, In-Progress"
   ]
  },
  {
   "cell_type": "code",
   "execution_count": null,
   "metadata": {},
   "outputs": [],
   "source": [
    "create_workclouds(df, 'status', 'Details', num_cols=3)"
   ]
  },
  {
   "cell_type": "markdown",
   "metadata": {},
   "source": [
    "### Figure 16 above\n",
    "The most common terms or words in the 'Details' column categorized by its 'status': Pending, Assigned, Completed, Closed, Cancelled, Resolved, In-Progress"
   ]
  },
  {
   "cell_type": "code",
   "execution_count": null,
   "metadata": {},
   "outputs": [],
   "source": [
    "create_workclouds(df, 'assigned support group', 'summary', num_cols=3)"
   ]
  },
  {
   "cell_type": "code",
   "execution_count": null,
   "metadata": {},
   "outputs": [],
   "source": [
    "create_workclouds(df, 'assigned support group', 'Details', num_cols=3)"
   ]
  },
  {
   "cell_type": "code",
   "execution_count": null,
   "metadata": {},
   "outputs": [],
   "source": [
    "top_words = get_freq_words(df, 'summary',20)\n",
    "top_words['Count'].sort_values(ascending=True).plot(kind='barh')\n",
    "\n",
    "plt.title('Most frequent terms in summary')\n",
    "plt.show()"
   ]
  },
  {
   "cell_type": "code",
   "execution_count": null,
   "metadata": {},
   "outputs": [],
   "source": [
    "top_words = get_freq_words(df, 'Details',20)\n",
    "top_words['Count'].sort_values(ascending=True).plot(kind='barh')\n",
    "\n",
    "plt.title('Most frequent terms in Details')\n",
    "plt.show()"
   ]
  },
  {
   "cell_type": "markdown",
   "metadata": {},
   "source": [
    "### Figure 20 above\n",
    "the bargraph shows the most common words found in the 'Details' column"
   ]
  },
  {
   "cell_type": "code",
   "execution_count": null,
   "metadata": {},
   "outputs": [],
   "source": [
    "for word in top_words.index.to_list():\n",
    "    avg_time = df.loc[df['summary'].str.contains(word), 'Resolution time(days)'].mean()\n",
    "    top_words.loc[top_words.index == word, 'Resolution Time (mean)'] = avg_time\n",
    "\n",
    "top_words['Resolution Time (mean)'].sort_values().plot(kind='barh')\n",
    "\n",
    "plt.title('Mean Resolution Time (days) of Most Frequent Terms in summary')\n",
    "plt.show()"
   ]
  },
  {
   "cell_type": "markdown",
   "metadata": {},
   "source": [
    "### Figure 21 above\n",
    "the bargraph shows the most common words found in the 'summary' column with their average 'Resolution time(days)' in the X-axis."
   ]
  },
  {
   "cell_type": "code",
   "execution_count": null,
   "metadata": {},
   "outputs": [],
   "source": [
    "for word in top_words.index.to_list():\n",
    "    non_null_rows = df[df['Detailsa'].str.contains(word) & df['Resolution time(days)'].notnull()\n",
    "    avg_time = non_null_rows['Resolution time(days)'].mean\n",
    "    top_words.loc[top_words.index == word, 'Resolution Time (mean)'] = avg_time\n",
    "\n",
    "top_words['Resolution Time (mean)'].sort_values().plot(kind='barh')\n",
    "\n",
    "plt.title('Mean Resolution Time (days) of Most Frequent Terms in Details')\n",
    "plt.show()"
   ]
  },
  {
   "cell_type": "markdown",
   "metadata": {},
   "source": [
    "### Figure 22 above\n",
    "the bargraph shows the most common words found in the 'Details' column with their average 'Resolution time(days)' in the X-axis."
   ]
  },
  {
   "cell_type": "code",
   "execution_count": null,
   "metadata": {},
   "outputs": [],
   "source": [
    "top_words_year = top_words_cat(df, 'Year', 'summary' ,20)\n",
    "create_barcharts(top_words_year, 'summary', 'Year')"
   ]
  },
  {
   "cell_type": "markdown",
   "metadata": {},
   "source": [
    "### Figure 23 above\n",
    "the bargraph shows the most common words found in the 'summary' column sorted by their count or number of occurence, and categorized by Year: 2021, 2022, 2023"
   ]
  },
  {
   "cell_type": "code",
   "execution_count": null,
   "metadata": {},
   "outputs": [],
   "source": [
    "top_words_year = top_words_cat(df, 'Year', 'Details' ,20)\n",
    "create_barcharts(top_words_year, 'Details', 'Year')\n",
    "# 'that', 'when', 'have', 'but', 'was', 'need'"
   ]
  },
  {
   "cell_type": "markdown",
   "metadata": {},
   "source": [
    "### Figure 24 above\n",
    "the bargraph shows the most common words found in the 'Details' column sorted by their count or number of occurence, and categorized by Year: 2021, 2022, 2023"
   ]
  },
  {
   "cell_type": "code",
   "execution_count": null,
   "metadata": {},
   "outputs": [],
   "source": [
    "top_words_priority = top_words_cat(df, 'Year', 'priority' ,20)\n",
    "create_barcharts(top_words_year, 'summary', 'priority')"
   ]
  },
  {
   "cell_type": "markdown",
   "metadata": {},
   "source": [
    "### Figure 25 above\n",
    "the bargraph shows the most common words found in the 'summary' column sorted by their count or number of occurence, and categorized by 'priority': Low, Medium, High, Critical"
   ]
  },
  {
   "cell_type": "code",
   "execution_count": null,
   "metadata": {},
   "outputs": [],
   "source": [
    "top_words_priority = top_words_cat(df, 'priority', 'Details' ,20)\n",
    "create_barcharts(top_words_year, 'Details', 'priority')"
   ]
  },
  {
   "cell_type": "markdown",
   "metadata": {},
   "source": [
    "### Figure 26 above\n",
    "the bargraph shows the most common words found in the 'Details' column sorted by their count or number of occurence, and categorized by 'priority': Low, Medium, High, Critical"
   ]
  },
  {
   "cell_type": "code",
   "execution_count": null,
   "metadata": {},
   "outputs": [],
   "source": [
    "df['Year'] = df['submit date'].dt.year\n",
    "\n",
    "yearly_counts = df.groupby('Year')['submit date'].count()\n",
    "\n",
    "plt.figure(figsize=(12, 8))\n",
    "\n",
    "num_years = len(yearly_counts)\n",
    "cols = 2\n",
    "rows = (num_years + cols - 1) // cols\n",
    "\n",
    "for i, (year, count) in enumerate(yearly_counts.items(), start=1):\n",
    "    plt.subplot(rows, cols, i)\n",
    "    plt.histplot(df[df['Year'] == year]['submit date'], bins=12)  # Adjust bins as needed\n",
    "    plt.title(f\"Year {year} - Total per Month: {count}\")\n",
    "    plt.xlabel(\"Month\")\n",
    "    plt.ylabel(\"Count\")\n",
    "    plt.xticks(rotation=45)\n",
    "\n",
    "\n",
    "plt.tight_layout()\n",
    "plt.show()"
   ]
  },
  {
   "cell_type": "code",
   "execution_count": null,
   "metadata": {},
   "outputs": [],
   "source": [
    "df.to_excel('explore.xlxs', index=False)"
   ]
  }
 ],
 "metadata": {
  "language_info": {
   "name": "python"
  },
  "orig_nbformat": 4
 },
 "nbformat": 4,
 "nbformat_minor": 2
}
